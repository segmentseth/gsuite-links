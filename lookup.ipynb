{
 "cells": [
  {
   "cell_type": "code",
   "execution_count": 10,
   "id": "0e1bb154",
   "metadata": {},
   "outputs": [],
   "source": [
    "import pandas as pd  \n",
    "url = 'https://raw.githubusercontent.com/segmentseth/gsuite-links/main/links.csv'\n",
    "# links = pd.read_csv('links.csv')\n",
    "links = pd.read_csv(url)\n",
    "lookup = dict(zip(links.segment, links.twilio))\n",
    "\n",
    "#  links.head() "
   ]
  },
  {
   "cell_type": "code",
   "execution_count": 11,
   "id": "0cb45b05",
   "metadata": {},
   "outputs": [
    {
     "name": "stdout",
     "output_type": "stream",
     "text": [
      "https://drive.google.com/open?id=1lFENTqUEGIAqKRssujf52fqrqZAiW8CYrWM1E2QEUzk,sfamilian@twilio.com\n"
     ]
    }
   ],
   "source": [
    "orig = 'https://drive.google.com/open?id=1psooFNf-pOGas6JydKxGGKl9v8IxVDHYh_Dm_BaklQ8'\n",
    "\n",
    "print(lookup[orig])"
   ]
  },
  {
   "cell_type": "code",
   "execution_count": null,
   "id": "3fde0fee",
   "metadata": {},
   "outputs": [],
   "source": []
  }
 ],
 "metadata": {
  "kernelspec": {
   "display_name": "Python 3 (ipykernel)",
   "language": "python",
   "name": "python3"
  },
  "language_info": {
   "codemirror_mode": {
    "name": "ipython",
    "version": 3
   },
   "file_extension": ".py",
   "mimetype": "text/x-python",
   "name": "python",
   "nbconvert_exporter": "python",
   "pygments_lexer": "ipython3",
   "version": "3.9.7"
  }
 },
 "nbformat": 4,
 "nbformat_minor": 5
}
