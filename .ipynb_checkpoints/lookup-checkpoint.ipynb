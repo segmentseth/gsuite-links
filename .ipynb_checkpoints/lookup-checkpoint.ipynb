{
 "cells": [
  {
   "cell_type": "code",
   "execution_count": null,
   "id": "0e1bb154",
   "metadata": {},
   "outputs": [],
   "source": [
    "import pandas as pd  \n",
    "links = pd.read_csv('links.csv')\n",
    "lookup = dict(zip(links.twilio, links.segment))\n",
    "\n",
    "#  links.head() "
   ]
  },
  {
   "cell_type": "code",
   "execution_count": null,
   "id": "0cb45b05",
   "metadata": {},
   "outputs": [
    {
     "ename": "KeyError",
     "evalue": "'https://drive.google.com/open?id=17hxk1q99C7cLu3Fygqw11Dz565OD0BkguSVACCkIBNQ'",
     "output_type": "error",
     "traceback": [
      "\u001b[0;31m---------------------------------------------------------------------------\u001b[0m",
      "\u001b[0;31mKeyError\u001b[0m                                  Traceback (most recent call last)",
      "Input \u001b[0;32mIn [4]\u001b[0m, in \u001b[0;36m<module>\u001b[0;34m\u001b[0m\n\u001b[1;32m      1\u001b[0m orig \u001b[38;5;241m=\u001b[39m \u001b[38;5;124m'\u001b[39m\u001b[38;5;124mhttps://drive.google.com/open?id=17hxk1q99C7cLu3Fygqw11Dz565OD0BkguSVACCkIBNQ\u001b[39m\u001b[38;5;124m'\u001b[39m\n\u001b[0;32m----> 3\u001b[0m \u001b[38;5;28mprint\u001b[39m(\u001b[43mlookup\u001b[49m\u001b[43m[\u001b[49m\u001b[43morig\u001b[49m\u001b[43m]\u001b[49m)\n",
      "\u001b[0;31mKeyError\u001b[0m: 'https://drive.google.com/open?id=17hxk1q99C7cLu3Fygqw11Dz565OD0BkguSVACCkIBNQ'"
     ]
    }
   ],
   "source": [
    "orig = 'https://drive.google.com/open?id=17hxk1q99C7cLu3Fygqw11Dz565OD0BkguSVACCkIBNQ'\n",
    "\n",
    "print(lookup[orig])"
   ]
  },
  {
   "cell_type": "code",
   "execution_count": null,
   "id": "3fde0fee",
   "metadata": {},
   "outputs": [],
   "source": []
  }
 ],
 "metadata": {
  "kernelspec": {
   "display_name": "Python 3 (ipykernel)",
   "language": "python",
   "name": "python3"
  },
  "language_info": {
   "codemirror_mode": {
    "name": "ipython",
    "version": 3
   },
   "file_extension": ".py",
   "mimetype": "text/x-python",
   "name": "python",
   "nbconvert_exporter": "python",
   "pygments_lexer": "ipython3",
   "version": "3.9.7"
  }
 },
 "nbformat": 4,
 "nbformat_minor": 5
}
